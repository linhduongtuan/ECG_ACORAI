{
 "cells": [
  {
   "cell_type": "markdown",
   "metadata": {},
   "source": [
    "# Module Function Tests\n",
    "\n",
    "This notebook tests individual functions and classes in the repository. Use these cells to verify that each module (utilities, feature extraction, HRV, advanced denoising, etc.) works as expected."
   ]
  },
  {
   "cell_type": "code",
   "execution_count": 4,
   "metadata": {},
   "outputs": [
    {
     "ename": "ImportError",
     "evalue": "attempted relative import with no known parent package",
     "output_type": "error",
     "traceback": [
      "\u001b[0;31m---------------------------------------------------------------------------\u001b[0m",
      "\u001b[0;31mImportError\u001b[0m                               Traceback (most recent call last)",
      "Cell \u001b[0;32mIn[4], line 7\u001b[0m\n\u001b[1;32m      4\u001b[0m \u001b[38;5;28;01mimport\u001b[39;00m\u001b[38;5;250m \u001b[39m\u001b[38;5;21;01mtorch\u001b[39;00m\n\u001b[1;32m      5\u001b[0m \u001b[38;5;28;01mimport\u001b[39;00m\u001b[38;5;250m \u001b[39m\u001b[38;5;21;01mlogging\u001b[39;00m\n\u001b[0;32m----> 7\u001b[0m \u001b[38;5;28;01mfrom\u001b[39;00m\u001b[38;5;250m \u001b[39m\u001b[38;5;21;01m.\u001b[39;00m\u001b[38;5;21;01mconfig\u001b[39;00m\u001b[38;5;250m \u001b[39m\u001b[38;5;28;01mimport\u001b[39;00m ECGConfig\n\u001b[1;32m      8\u001b[0m \u001b[38;5;28;01mfrom\u001b[39;00m\u001b[38;5;250m \u001b[39m\u001b[38;5;21;01m.\u001b[39;00m\u001b[38;5;21;01mutils_torch\u001b[39;00m\u001b[38;5;250m \u001b[39m\u001b[38;5;28;01mimport\u001b[39;00m create_bandpass_filter, create_notch_filter, normalize_signal\n\u001b[1;32m      9\u001b[0m \u001b[38;5;28;01mfrom\u001b[39;00m\u001b[38;5;250m \u001b[39m\u001b[38;5;21;01m.\u001b[39;00m\u001b[38;5;21;01mfeatures\u001b[39;00m\u001b[38;5;250m \u001b[39m\u001b[38;5;28;01mimport\u001b[39;00m extract_statistical_features, extract_morphological_features\n",
      "\u001b[0;31mImportError\u001b[0m: attempted relative import with no known parent package"
     ]
    }
   ],
   "source": [
    "import numpy as np\n",
    "import matplotlib.pyplot as plt\n",
    "import neurokit2 as nk\n",
    "import torch\n",
    "import logging\n",
    "\n",
    "from ecg_processor_torch.config import ECGConfig\n",
    "from .utils_torch import create_bandpass_filter, create_notch_filter, normalize_signal\n",
    "from .features import extract_statistical_features, extract_morphological_features\n",
    "from .hrv import calculate_time_domain_hrv, calculate_frequency_domain_hrv\n",
    "from .advanced_denoising import wavelet_denoise\n",
    "\n",
    "logging.basicConfig(level=logging.DEBUG)\n",
    "print('Modules imported successfully.')"
   ]
  },
  {
   "cell_type": "markdown",
   "metadata": {},
   "source": [
    "## Test Utility Functions\n",
    "\n",
    "We first test creation of filters and signal normalization."
   ]
  },
  {
   "cell_type": "code",
   "execution_count": null,
   "metadata": {},
   "outputs": [],
   "source": [
    "# Create bandpass and notch filters\n",
    "bp_b, bp_a = create_bandpass_filter(ECGConfig.FILTER_LOWCUT, ECGConfig.FILTER_HIGHCUT, ECGConfig.DEFAULT_SAMPLING_RATE, ECGConfig.FILTER_ORDER)\n",
    "notch_b, notch_a = create_notch_filter(ECGConfig.NOTCH_FREQ, ECGConfig.NOTCH_Q, ECGConfig.DEFAULT_SAMPLING_RATE)\n",
    "print('Bandpass filter coefficients:', bp_b[:5], '...', bp_a[:5])\n",
    "print('Notch filter coefficients:', notch_b[:5], '...', notch_a[:5])\n",
    "\n",
    "# Test normalization with an example signal\n",
    "signal = np.linspace(-1, 1, 1000) + np.random.normal(0, 0.05, 1000)\n",
    "normalized = normalize_signal(signal)\n",
    "print('Normalized signal stats: mean =', normalized.mean(), ', std =', normalized.std())"
   ]
  },
  {
   "cell_type": "markdown",
   "metadata": {},
   "source": [
    "## Test Feature Extraction Functions\n",
    "\n",
    "Simulate a short ECG beat and extract statistical and morphological features."
   ]
  },
  {
   "cell_type": "code",
   "execution_count": null,
   "metadata": {},
   "outputs": [],
   "source": [
    "# Simulate a beat (using a snippet of a simulated ECG signal)\n",
    "beat = nk.ecg_simulate(duration=1, sampling_rate=ECGConfig.DEFAULT_SAMPLING_RATE, noise=0.01)\n",
    "\n",
    "stat_features = extract_statistical_features(beat)\n",
    "morph_features = extract_morphological_features(beat, ECGConfig.DEFAULT_SAMPLING_RATE)\n",
    "\n",
    "print('Statistical features:', stat_features)\n",
    "print('Morphological features:', morph_features)"
   ]
  },
  {
   "cell_type": "markdown",
   "metadata": {},
   "source": [
    "## Test HRV Calculation Functions\n",
    "\n",
    "We simulate R-peaks and compute HRV metrics."
   ]
  },
  {
   "cell_type": "code",
   "execution_count": null,
   "metadata": {},
   "outputs": [],
   "source": [
    "# Create artificial R-peak positions\n",
    "r_peaks = np.array([100, 600, 1100, 1600, 2100])\n",
    "rr_intervals = np.diff(r_peaks) / ECGConfig.DEFAULT_SAMPLING_RATE * 1000  # ms\n",
    "\n",
    "time_hrv = calculate_time_domain_hrv(rr_intervals)\n",
    "freq_hrv = calculate_frequency_domain_hrv(rr_intervals)\n",
    "print('Time domain HRV:', time_hrv)\n",
    "print('Frequency domain HRV:', freq_hrv)"
   ]
  },
  {
   "cell_type": "markdown",
   "metadata": {},
   "source": [
    "## Test Advanced Denoising Function\n",
    "\n",
    "Apply wavelet denoising to a simulated noisy ECG snippet."
   ]
  },
  {
   "cell_type": "code",
   "execution_count": null,
   "metadata": {},
   "outputs": [],
   "source": [
    "noisy_signal = nk.ecg_simulate(duration=2, sampling_rate=ECGConfig.DEFAULT_SAMPLING_RATE, noise=0.1)\n",
    "denoised_signal = wavelet_denoise(noisy_signal)\n",
    "\n",
    "plt.figure(figsize=(12,4))\n",
    "plt.plot(noisy_signal, label='Noisy')\n",
    "plt.plot(denoised_signal, label='Denoised', linestyle='--')\n",
    "plt.legend()\n",
    "plt.title('Wavelet Denoising Example')\n",
    "plt.show()"
   ]
  },
  {
   "cell_type": "markdown",
   "metadata": {},
   "source": [
    "## Conclusion\n",
    "\n",
    "These tests help ensure each module function works as expected. Use and expand these cells as needed for further testing."
   ]
  }
 ],
 "metadata": {
  "kernelspec": {
   "display_name": ".venv",
   "language": "python",
   "name": "python3"
  },
  "language_info": {
   "codemirror_mode": {
    "name": "ipython",
    "version": 3
   },
   "file_extension": ".py",
   "mimetype": "text/x-python",
   "name": "python",
   "nbconvert_exporter": "python",
   "pygments_lexer": "ipython3",
   "version": "3.13.0"
  }
 },
 "nbformat": 4,
 "nbformat_minor": 2
}
