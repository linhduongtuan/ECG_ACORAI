{
"cells": [
{
"cell_type": "markdown",
"metadata": {},
"source": [
"# Biosignal Preprocessing Pipeline Tutorial\n",
"\n",
"This tutorial demonstrates how to build your own raw data preprocessing pipeline using the ECG_ACORAI codebase. In this notebook we show how to simulate noisy biosignals (including Electrodermal Activity (EDA), Electromyogram (EMG), Respiration, and even ECG) and then apply various denoising techniques such as basic filtering and advanced wavelet thresholding.\n",
"\n",
"We will cover several scenarios:\n",
"\n",
"1. Scenario 1: Basic Filtering for EDA & Respiration – Using low-pass filters to remove high-frequency noise.\n",
"2. Scenario 2: EMG Denoising – Using bandpass filtering, rectification, and smoothing.\n",
"3. Scenario 3: Advanced ECG Denoising with Wavelet Thresholding – Leveraging our repository’s denoising module.\n",
"\n",
"Feel free to extend these examples with your own signals and processing functions."
]
},
{
"cell_type": "markdown",
"metadata": {},
"source": [
"## Setup & Imports\n",
"\n",
"First, we import the necessary libraries. Some key packages are:\n",
"\n",
"- NumPy and SciPy: For numerical operations and filtering\n",
"- Matplotlib: For visualization\n",
"- NeuroKit2: To simulate sample biosignals\n",
"- PyTorch: For tensor-based processing (and to work with our repository code)\n",
"- ECG_ACORAI modules: Such as advanced denoising functions from ecg_processor_torch (our repository supports various denoising techniques for ECG signals; you can extend or modify similar approaches for EDA, EMG, and Respiration signals).\n",
"\n",
"Make sure you have installed the repository requirements (e.g. using uv pip install -r requirements.txt)."
]
},
{
"cell_type": "code",
"execution_count": null,
"metadata": {},
"source": [
"import numpy as np\n",
"import matplotlib.pyplot as plt\n",
"from scipy.signal import butter, filtfilt\n",
"import neurokit2 as nk\n",
"import torch\n",
"\n",
"# Import advanced ECG denoising function from our repository\n",
"from ecg_processor_torch.advanced_denoising import wavelet_denoise\n",
"from ecg_processor_torch.config import ECGConfig # For default config (e.g., sampling rate)\n",
"\n",
"# For inline plotting in Jupyter Notebook\n",
"%matplotlib inline\n",
"\n",
"# Set a seed for reproducibility\n",
"np.random.seed(42)\n",
"torch.manual_seed(42)"
]
},
{
"cell_type": "markdown",
"metadata": {},
"source": [
"## Simulating Raw Biosignals\n",
"\n",
"In this section, we simulate several raw biosignals for demonstration:\n",
"\n",
"- EDA: A slow-varying signal with added high-frequency noise.\n",
"- EMG: A higher-frequency oscillatory signal with bursts (simulated with a sine function plus noise).\n",
"- Respiration: A low-frequency oscillatory signal with perturbations.\n",
"\n",
"We use NeuroKit2 and NumPy to generate these synthetic signals."
]
},
{
"cell_type": "code",
"execution_count": null,
"metadata": {},
"source": [
"# Define simulation parameters\n",
"fs = 500 # Sampling frequency in Hz\n",
"duration = 10 # seconds\n",
"t = np.linspace(0, duration, fs * duration)\n",
"\n",
"# Simulate EDA: slow sinusoidal component + high-frequency noise\n",
"eda = 0.5 * np.sin(0.2 * 2 * np.pi * t) + 0.05 * np.random.randn(len(t))\n",
"\n",
"# Simulate EMG: higher-frequency muscle activity + noise\n",
"emg = 0.1 * np.sin(20 * 2 * np.pi * t) + 0.02 * np.random.randn(len(t))\n",
"\n",
"# Simulate Respiration: low-frequency oscillation with noise\n",
"resp = 0.3 * np.sin(0.5 * 2 * np.pi * t) + 0.03 * np.random.randn(len(t))\n",
"\n",
"# For demonstration, also simulate a noisy ECG signal using NeuroKit2\n",
"ecg = nk.ecg_simulate(duration=10, sampling_rate=fs, noise=0.1)\n",
"\n",
"# Visualize the simulated signals\n",
"plt.figure(figsize=(12, 10))\n",
"\n",
"plt.subplot(4, 1, 1)\n",
"plt.plot(t, eda, color='C0')\n",
"plt.title('Simulated EDA Signal (Raw)')\n",
"\n",
"plt.subplot(4, 1, 2)\n",
"plt.plot(t, emg, color='C1')\n",
"plt.title('Simulated EMG Signal (Raw)')\n",
"\n",
"plt.subplot(4, 1, 3)\n",
"plt.plot(t, resp, color='C2')\n",
"plt.title('Simulated Respiration Signal (Raw)')\n",
"\n",
"plt.subplot(4, 1, 4)\n",
"plt.plot(t, ecg, color='C3')\n",
"plt.title('Simulated ECG Signal (Raw)')\n",
"\n",
"plt.tight_layout()\n",
"plt.show()"
]
},
{
"cell_type": "markdown",
"metadata": {},
"source": [
"## Preprocessing Functions for Biosignals\n",
"\n",
"We now define a set of preprocessing functions for our signals. These functions include:\n",
"\n",
"- Butterworth Low-pass Filter: For smoothing slow-varying signals (like EDA and Respiration).\n",
"- Butterworth Bandpass Filter: For EMG signals (to retain the 20–150 Hz band, for example).\n",
"- Wavelet Denoising: (Advanced) Using the repository’s wavelet_denoise function to clean ECG signals.\n",
"\n",
"You can adjust parameters like the cutoff frequencies, filter orders, and more to tune the processing to your needs."
]
},
{
"cell_type": "code",
"execution_count": null,
"metadata": {},
"source": [
"def butter_lowpass(cutoff, fs, order=5):\n",
" nyquist = 0.5 * fs\n",
" normal_cutoff = cutoff / nyquist\n",
" b, a = butter(order, normal_cutoff, btype='low', analog=False)\n",
" return b, a\n",
"\n",
"def filter_signal(data, cutoff, fs, order=5):\n",
" b, a = butter_lowpass(cutoff, fs, order=order)\n",
" y = filtfilt(b, a, data)\n",
" return y\n",
"\n",
"# EDA Cleaning: Low-pass filter to smooth the slow-varying signal\n",
"def clean_eda(signal, fs):\n",
" cutoff = 0.5 # Hz\n",
" return filter_signal(signal, cutoff, fs, order=3)\n",
"\n",
"# EMG Denoising: Bandpass filter, then rectify and smooth the signal\n",
"def butter_bandpass(lowcut, highcut, fs, order=4):\n",
" nyquist = 0.5 * fs\n",
" low = lowcut / nyquist\n",
" high = highcut / nyquist\n",
" b, a = butter(order, [low, high], btype='band')\n",
" return b, a\n",
"\n",
"def denoise_emg(signal, fs):\n",
" lowcut = 20 # Hz\n",
" highcut = 150 # Hz (must be below Nyquist; for fs=500 Hz, Nyquist=250 Hz)\n",
" b, a = butter_bandpass(lowcut, highcut, fs, order=4)\n",
" filtered = filtfilt(b, a, signal)\n",
" rectified = np.abs(filtered)\n",
" # Smooth the rectified signal with a low-pass filter\n",
" smooth = filter_signal(rectified, cutoff=10, fs=fs, order=3)\n",
" return smooth\n",
"\n",
"# Respiration Cleaning: Low-pass filter to remove high-frequency noise\n",
"def clean_respiration(signal, fs):\n",
" cutoff = 1 # Hz\n",
" return filter_signal(signal, cutoff, fs, order=3)\n"
]
},
{
"cell_type": "markdown",
"metadata": {},
"source": [
"## Scenario 1: Basic Filtering for EDA & Respiration\n",
"\n",
"In this scenario, we apply simple low-pass filters to the EDA and Respiration signals. This removes unwanted high-frequency noise while preserving the main trends of these signals."
]
},
{
"cell_type": "code",
"execution_count": null,
"metadata": {},
"source": [
"# Process EDA and Respiration signals\n",
"eda_clean = clean_eda(eda, fs)\n",
"resp_clean = clean_respiration(resp, fs)\n",
"\n",
"plt.figure(figsize=(12, 6))\n",
"\n",
"plt.subplot(2, 1, 1)\n",
"plt.plot(t, eda, label='Raw EDA', alpha=0.6)\n",
"plt.plot(t, eda_clean, label='Cleaned EDA', linewidth=2)\n",
"plt.title('EDA Signal Processing')\n",
"plt.legend()\n",
"\n",
"plt.subplot(2, 1, 2)\n",
"plt.plot(t, resp, label='Raw Respiration', alpha=0.6)\n",
"plt.plot(t, resp_clean, label='Cleaned Respiration', linewidth=2)\n",
"plt.title('Respiration Signal Processing')\n",
"plt.legend()\n",
"\n",
"plt.tight_layout()\n",
"plt.show()"
]
},
{
"cell_type": "markdown",
"metadata": {},
"source": [
"## Scenario 2: EMG Denoising using Bandpass Filtering, Rectification, and Smoothing\n",
"\n",
"For EMG signals, not only do we want to filter noise using a bandpass filter (typically retaining frequencies between 20 and 150 Hz), but we also rectify the signal (by taking its absolute value) and then smooth it with a low-pass filter. This helps highlight the underlying muscle activity.\n"
]
},
{
"cell_type": "code",
"execution_count": null,
"metadata": {},
"source": [
"# Process the EMG signal\n",
"emg_clean = denoise_emg(emg, fs)\n",
"\n",
"plt.figure(figsize=(12, 4))\n",
"plt.plot(t, emg, label='Raw EMG', alpha=0.6)\n",
"plt.plot(t, emg_clean, label='Denoised EMG', linewidth=2)\n",
"plt.title('EMG Signal Processing')\n",
"plt.xlabel('Time (s)')\n",
"plt.ylabel('Amplitude')\n",
"plt.legend()\n",
"plt.show()"
]
},
{
"cell_type": "markdown",
"metadata": {},
"source": [
"## Scenario 3: Advanced ECG Denoising using Wavelet Thresholding\n",
"\n",
"Our repository provides an advanced denoising function based on wavelet thresholding. Here we simulate a noisy ECG signal (using NeuroKit2) and apply the wavelet_denoise function from our repository (located in ecg_processor_torch.advanced_denoising).\n",
"\n",
"This technique can be extended to other signals if you design a wavelet-based approach for, say, EDA or EMG signals."
]
},
{
"cell_type": "code",
"execution_count": null,
"metadata": {},
"source": [
"# Simulate a noisy ECG signal (for demonstration purposes)\n",
"ecg_noisy = nk.ecg_simulate(duration=10, sampling_rate=fs, noise=0.1)\n",
"\n",
"# Convert to a Torch tensor (the wavelet_denoise function expects a tensor)\n",
"ecg_noisy_tensor = torch.tensor(ecg_noisy, dtype=torch.float32)\n",
"\n",
"# Apply advanced wavelet denoising\n",
"ecg_denoised_tensor = wavelet_denoise(ecg_noisy_tensor)\n",
"\n",
"# Convert back to NumPy for plotting (if necessary)\n",
"ecg_denoised = ecg_denoised_tensor.cpu().numpy()\n",
"\n",
"plt.figure(figsize=(12, 4))\n",
"plt.plot(t, ecg_noisy, label='Noisy ECG', alpha=0.6)\n",
"plt.plot(t, ecg_denoised, label='Denoised ECG', linewidth=2)\n",
"plt.title('Advanced ECG Denoising with Wavelet Thresholding')\n",
"plt.xlabel('Time (s)')\n",
"plt.ylabel('Amplitude')\n",
"plt.legend()\n",
"plt.show()"
]
},
{
"cell_type": "markdown",
"metadata": {},
"source": [
"## Discussion & Next Steps\n",
"\n",
"In this tutorial we explored several scenarios using the ECG_ACORAI codebase:\n",
"\n",
"- Basic filtering for slow-varying signals (EDA & Respiration)\n",
"- EMG denoising through bandpass filtering, rectification, and smoothing\n",
"- Advanced ECG denoising using wavelet thresholding\n",
"\n",
"### Next Steps:\n",
"\n",
"- Artifact Removal: Integrate routines to detect and eliminate artifacts (e.g. motion artifacts).\n",
"- Feature Extraction & Classification: Use the preprocessed signals with the deep learning modules (e.g. convolutional autoencoders, transformer classifiers) provided in the repository for state-of-the-art analysis.\n",
"- Extend to Other Biosignals: Adapt these techniques to handle additional biosignals such as skin temperature or blood pressure if needed.\n",
"\n",
"This modular pipeline allows you to mix and match various preprocessing techniques depending on the quality of your raw data and the specific requirements of your analysis."
]
},
{
"cell_type": "markdown",
"metadata": {},
"source": [
"## Conclusion\n",
"\n",
"We provided a comprehensive walkthrough showing how to build a raw data preprocessing pipeline using the ECG_ACORAI codebase. This notebook detailed multiple scenarios—from basic filtering to advanced wavelet denoising—demonstrating how to clean different biosignals such as EDA, EMG, Respiration, and ECG.\n",
"\n",
"Feel free to customize and extend this pipeline further to meet your research or application needs. Happy coding!"
]
}
],
"metadata": {
"kernelspec": {
"display_name": "Python 3",
"language": "python",
"name": "python3"
},
"language_info": {
"name": "python",
"version": "3.x"
}
},
"nbformat": 4,
"nbformat_minor": 5
}